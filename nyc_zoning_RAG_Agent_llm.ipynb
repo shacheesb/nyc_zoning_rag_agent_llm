{
 "cells": [
  {
   "cell_type": "code",
   "execution_count": 9,
   "id": "a31cee80-78fd-45df-b7ad-4dbf2926145f",
   "metadata": {},
   "outputs": [
    {
     "name": "stderr",
     "output_type": "stream",
     "text": [
      "/var/folders/5p/_q2tc1jj6tg91kd4r1rpgl480000gn/T/ipykernel_85540/1612974233.py:10: DtypeWarning: Columns (17,18,20,22) have mixed types. Specify dtype option on import or set low_memory=False.\n",
      "  df = pd.read_csv(DATA_PATH)\n"
     ]
    },
    {
     "data": {
      "application/vnd.jupyter.widget-view+json": {
       "model_id": "6738767489054eec8d815b17d4347abc",
       "version_major": 2,
       "version_minor": 0
      },
      "text/plain": [
       "config.json: 0.00B [00:00, ?B/s]"
      ]
     },
     "metadata": {},
     "output_type": "display_data"
    },
    {
     "data": {
      "application/vnd.jupyter.widget-view+json": {
       "model_id": "8b621ea43b6b4d4bb49cd5da5e169c4d",
       "version_major": 2,
       "version_minor": 0
      },
      "text/plain": [
       "model.safetensors:   0%|          | 0.00/990M [00:00<?, ?B/s]"
      ]
     },
     "metadata": {},
     "output_type": "display_data"
    },
    {
     "data": {
      "application/vnd.jupyter.widget-view+json": {
       "model_id": "7a3a37e903e14431a50fa5904d6c15c5",
       "version_major": 2,
       "version_minor": 0
      },
      "text/plain": [
       "generation_config.json:   0%|          | 0.00/147 [00:00<?, ?B/s]"
      ]
     },
     "metadata": {},
     "output_type": "display_data"
    },
    {
     "data": {
      "application/vnd.jupyter.widget-view+json": {
       "model_id": "3f671a3d3bdf4f7795214bd064b87256",
       "version_major": 2,
       "version_minor": 0
      },
      "text/plain": [
       "tokenizer_config.json: 0.00B [00:00, ?B/s]"
      ]
     },
     "metadata": {},
     "output_type": "display_data"
    },
    {
     "data": {
      "application/vnd.jupyter.widget-view+json": {
       "model_id": "263557b93594420fb20bcc20762cbce6",
       "version_major": 2,
       "version_minor": 0
      },
      "text/plain": [
       "spiece.model:   0%|          | 0.00/792k [00:00<?, ?B/s]"
      ]
     },
     "metadata": {},
     "output_type": "display_data"
    },
    {
     "data": {
      "application/vnd.jupyter.widget-view+json": {
       "model_id": "7354618e5c58489bb600f3b593ef21bd",
       "version_major": 2,
       "version_minor": 0
      },
      "text/plain": [
       "tokenizer.json: 0.00B [00:00, ?B/s]"
      ]
     },
     "metadata": {},
     "output_type": "display_data"
    },
    {
     "data": {
      "application/vnd.jupyter.widget-view+json": {
       "model_id": "6ebb5115ac1a46c68b44626679fc7f8b",
       "version_major": 2,
       "version_minor": 0
      },
      "text/plain": [
       "special_tokens_map.json: 0.00B [00:00, ?B/s]"
      ]
     },
     "metadata": {},
     "output_type": "display_data"
    },
    {
     "name": "stderr",
     "output_type": "stream",
     "text": [
      "Hardware accelerator e.g. GPU is available in the environment, but no `device` argument is passed to the `Pipeline` object. Model will be on CPU.\n",
      "/var/folders/5p/_q2tc1jj6tg91kd4r1rpgl480000gn/T/ipykernel_85540/1612974233.py:39: LangChainDeprecationWarning: The method `Chain.__call__` was deprecated in langchain 0.1.0 and will be removed in 1.0. Use :meth:`~invoke` instead.\n",
      "  result = qa_chain(query)\n"
     ]
    },
    {
     "name": "stdout",
     "output_type": "stream",
     "text": [
      "Answer: EDGEGROVE AVENUE\n",
      "\n",
      "Top source snippets:\n",
      "\n",
      "Source 1:\n",
      "312 ELDERT STREET | BK | 2.0 | 1910.0 | R6\n",
      "\n",
      "Source 2:\n",
      " EDGEGROVE AVENUE | SI | 11.0 | 0.0 | R3X\n",
      "\n",
      "Source 3:\n",
      "262 LAMOKA AVENUE | SI | 1.0 | 1970.0 | R3-1\n",
      "\n",
      "Source 4:\n",
      "23 GRANTWOOD AVENUE | SI | 1.0 | 1930.0 | R3A\n",
      "\n",
      "Source 5:\n",
      "658 DELAFIELD AVENUE | SI | 1.0 | 1899.0 | R3A\n"
     ]
    }
   ],
   "source": [
    "import pandas as pd\n",
    "from langchain_huggingface import HuggingFaceEmbeddings, HuggingFacePipeline\n",
    "from langchain.vectorstores import FAISS\n",
    "from langchain.document_loaders import DataFrameLoader\n",
    "from langchain.chains import RetrievalQA\n",
    "from transformers import pipeline\n",
    "\n",
    "# STEP 1: Load NYC PLUTO data\n",
    "DATA_PATH = \"Downloads/nyc_pluto_20v1_csv/pluto_20v1.csv\"\n",
    "df = pd.read_csv(DATA_PATH)\n",
    "df = df.fillna(\"\")\n",
    "df['combined'] = df[['address', 'borough', 'landuse', 'yearbuilt', 'zonedist1']].astype(str).agg(\" | \".join, axis=1)\n",
    "df = df.sample(n=500, random_state=42).reset_index(drop=True)\n",
    "\n",
    "\n",
    "# STEP 2: Embed and store\n",
    "loader = DataFrameLoader(df[['combined']], page_content_column=\"combined\")\n",
    "docs = loader.load()\n",
    "embeddings = HuggingFaceEmbeddings(model_name=\"sentence-transformers/all-MiniLM-L6-v2\")\n",
    "vectorstore = FAISS.from_documents(docs, embeddings)\n",
    "\n",
    "# STEP — define retriever\n",
    "retriever = vectorstore.as_retriever(search_type=\"similarity\", search_kwargs={\"k\": 5})\n",
    "\n",
    "# STEP 3: Local LLM\n",
    "local_pipe = pipeline(\"text2text-generation\", model=\"google/flan-t5-base\", max_length=512)\n",
    "llm = HuggingFacePipeline(pipeline=local_pipe)\n",
    "\n",
    "# STEP 4: Retrieval + QA Chain\n",
    "qa_chain = RetrievalQA.from_chain_type(\n",
    "    llm=llm,\n",
    "    retriever=retriever,\n",
    "    chain_type=\"stuff\",\n",
    "    return_source_documents=True\n",
    ")\n",
    "\n",
    "# STEP 5: Query\n",
    "query = \"Which neighborhoods have the oldest residential buildings and what is their zoning?\"\n",
    "result = qa_chain(query)\n",
    "\n",
    "# Print results\n",
    "print(\"Answer:\", result['result'])\n",
    "print(\"\\nTop source snippets:\")\n",
    "for i, doc in enumerate(result['source_documents']):\n",
    "    print(f\"\\nSource {i+1}:\\n{doc.page_content[:1000]}\")\n"
   ]
  },
  {
   "cell_type": "code",
   "execution_count": null,
   "id": "d3960522-380e-4c4b-b18c-60f5ac391996",
   "metadata": {},
   "outputs": [],
   "source": []
  }
 ],
 "metadata": {
  "kernelspec": {
   "display_name": "Python 3 (ipykernel)",
   "language": "python",
   "name": "python3"
  },
  "language_info": {
   "codemirror_mode": {
    "name": "ipython",
    "version": 3
   },
   "file_extension": ".py",
   "mimetype": "text/x-python",
   "name": "python",
   "nbconvert_exporter": "python",
   "pygments_lexer": "ipython3",
   "version": "3.12.4"
  }
 },
 "nbformat": 4,
 "nbformat_minor": 5
}
